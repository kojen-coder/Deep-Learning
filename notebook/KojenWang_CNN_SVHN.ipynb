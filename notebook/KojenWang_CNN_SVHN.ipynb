{
 "cells": [
  {
   "cell_type": "markdown",
   "metadata": {
    "id": "Q91KqmCRu64D"
   },
   "source": [
    "# **Convolutional Neural Networks Project: Street View Housing Number Digit Recognition**\n",
    "\n",
    "# **Marks: 30**\n",
    "\n",
    "Welcome to the project on classification using Convolutional Neural Networks. We will continue to work with the Street View Housing Numbers (SVHN) image dataset for this project.\n",
    "\n",
    "--------------\n",
    "## **Context** \n",
    "--------------\n",
    "\n",
    "One of the most interesting tasks in deep learning is to recognize objects in natural scenes. The ability to process visual information using machine learning algorithms can be very useful as demonstrated in various applications.\n",
    "\n",
    "The SVHN dataset contains over 600,000 labeled digits cropped from street-level photos. It is one of the most popular image recognition datasets. It has been used in neural networks created by Google to improve the map quality by automatically transcribing the address numbers from a patch of pixels. The transcribed number with a known street address helps pinpoint the location of the building it represents. \n",
    "\n",
    "----------------\n",
    "## **Objective**\n",
    "----------------\n",
    "\n",
    "To build a CNN model that can recognize the digits in the images.\n",
    "\n",
    "-------------\n",
    "## **Dataset**\n",
    "-------------\n",
    "Here, we will use a subset of the original data to save some computation time. The dataset is provided as a .h5 file. The basic preprocessing steps have been applied on the dataset."
   ]
  },
  {
   "cell_type": "markdown",
   "metadata": {
    "id": "8z2Z7-OAs8QG"
   },
   "source": [
    "## **Mount the drive**\n",
    "\n",
    "Let us start by mounting the Google drive. You can run the below cell to mount the Google drive."
   ]
  },
  {
   "cell_type": "code",
   "execution_count": 1,
   "metadata": {
    "colab": {
     "base_uri": "https://localhost:8080/"
    },
    "id": "03lDyQUuef7z",
    "outputId": "12e0c4d2-605d-413c-cc90-f86a0b5bd115"
   },
   "outputs": [
    {
     "name": "stdout",
     "output_type": "stream",
     "text": [
      "Mounted at /content/drive\n"
     ]
    }
   ],
   "source": [
    "from google.colab import drive\n",
    "\n",
    "drive.mount('/content/drive')"
   ]
  },
  {
   "cell_type": "markdown",
   "metadata": {
    "id": "C8U3DUa3eNsT"
   },
   "source": [
    "## **Importing the necessary libraries**"
   ]
  },
  {
   "cell_type": "code",
   "execution_count": 2,
   "metadata": {
    "id": "-dVzeuF3eQx1"
   },
   "outputs": [],
   "source": [
    "import numpy as np\n",
    "\n",
    "import pandas as pd\n",
    "\n",
    "import matplotlib.pyplot as plt\n",
    "\n",
    "import seaborn as sns\n",
    "\n",
    "from sklearn.model_selection import train_test_split\n",
    "\n",
    "from sklearn.preprocessing import MinMaxScaler\n",
    "\n",
    "import tensorflow as tf\n",
    "\n",
    "from tensorflow.keras.models import Sequential\n",
    "\n",
    "from tensorflow.keras.layers import Dense, Conv2D, MaxPool2D, BatchNormalization, Dropout, Flatten, LeakyReLU\n",
    "\n",
    "from tensorflow.keras.losses import categorical_crossentropy\n",
    "\n",
    "from tensorflow.keras.optimizers import Adam\n",
    "\n",
    "from tensorflow.keras.utils import to_categorical"
   ]
  },
  {
   "cell_type": "markdown",
   "metadata": {
    "id": "ucnevGLoyKf_"
   },
   "source": [
    "**Let us check the version of tensorflow.**"
   ]
  },
  {
   "cell_type": "code",
   "execution_count": 3,
   "metadata": {
    "colab": {
     "base_uri": "https://localhost:8080/"
    },
    "id": "W5as47YxyJVk",
    "outputId": "9586fe84-4066-465e-c324-578e5822fa47"
   },
   "outputs": [
    {
     "name": "stdout",
     "output_type": "stream",
     "text": [
      "2.8.0\n"
     ]
    }
   ],
   "source": [
    "print(tf.__version__)"
   ]
  },
  {
   "cell_type": "markdown",
   "metadata": {
    "id": "8lsux2ZwyTTR"
   },
   "source": [
    "## **Load the dataset**\n",
    "\n",
    "- Let us now load the dataset that is available as a .h5 file.\n",
    "- Split the data into the train and the test dataset."
   ]
  },
  {
   "cell_type": "code",
   "execution_count": 4,
   "metadata": {
    "id": "BApX9qgNsqV0",
    "scrolled": true
   },
   "outputs": [],
   "source": [
    "import h5py\n",
    "\n",
    "# Open the file as read only\n",
    "# User can make changes in the path as required\n",
    "\n",
    "h5f = h5py.File('/content/drive/MyDrive/SVHN_single_grey1.h5', 'r')\n",
    "\n",
    "# Load the the train and the test dataset\n",
    "\n",
    "X_train = h5f['X_train'][:]\n",
    "\n",
    "y_train = h5f['y_train'][:]\n",
    "\n",
    "X_test = h5f['X_test'][:]\n",
    "\n",
    "y_test = h5f['y_test'][:]\n",
    "\n",
    "\n",
    "# Close this file\n",
    "\n",
    "h5f.close()"
   ]
  },
  {
   "cell_type": "markdown",
   "metadata": {
    "id": "hVe0CYpUgj7w"
   },
   "source": [
    "Let's check the number of images in the training and the testing dataset."
   ]
  },
  {
   "cell_type": "code",
   "execution_count": 5,
   "metadata": {
    "colab": {
     "base_uri": "https://localhost:8080/"
    },
    "id": "y3lwKpOefkpA",
    "outputId": "ec388d5b-9961-4409-8cac-6444fddf19de"
   },
   "outputs": [
    {
     "data": {
      "text/plain": [
       "(42000, 18000)"
      ]
     },
     "execution_count": 5,
     "metadata": {},
     "output_type": "execute_result"
    }
   ],
   "source": [
    "len(X_train), len(X_test)"
   ]
  },
  {
   "cell_type": "markdown",
   "metadata": {
    "id": "akTUOfLlgwoM"
   },
   "source": [
    "**Observation:**\n",
    "- There are 42,000 images in the training data and 18,000 images in the testing data. "
   ]
  },
  {
   "cell_type": "markdown",
   "metadata": {
    "id": "kxODV6HKykuc"
   },
   "source": [
    "## **Visualizing images**\n",
    "\n",
    "- Use X_train to visualize the first 10 images.\n",
    "- Use Y_train to print the first 10 labels."
   ]
  },
  {
   "cell_type": "markdown",
   "metadata": {
    "id": "giALtffZKDNq"
   },
   "source": [
    "### **Question 1: Complete the below code to visualize the first 10 images in the dataset. (1 Mark)**"
   ]
  },
  {
   "cell_type": "code",
   "execution_count": 6,
   "metadata": {
    "colab": {
     "base_uri": "https://localhost:8080/",
     "height": 96
    },
    "id": "Bvsc8ytHsqWD",
    "outputId": "2be9cc60-3fd0-402f-9c4f-3fd50f290090"
   },
   "outputs": [
    {
     "data": {
      "image/png": "[encoded data removed]",
      "text/plain": [
       "<Figure size 720x72 with 10 Axes>"
      ]
     },
     "metadata": {
      "needs_background": "light"
     },
     "output_type": "display_data"
    },
    {
     "name": "stdout",
     "output_type": "stream",
     "text": [
      "label for each of the above image: [2 6 7 4 4 0 3 0 7 3]\n"
     ]
    }
   ],
   "source": [
    "# Visualizing the first 10 images in the dataset and printing their labels\n",
    "\n",
    "%matplotlib inline\n",
    "\n",
    "import matplotlib.pyplot as plt\n",
    "\n",
    "plt.figure(figsize = (10, 1))\n",
    "\n",
    "for i in range(10):\n",
    "\n",
    "    plt.subplot(1, 10, i+1)\n",
    "    \n",
    "    plt.imshow(X_train[i], cmap = \"gray\")  # Write the function to visualize images\n",
    "\n",
    "    plt.axis('off')\n",
    "\n",
    "plt.show()\n",
    "\n",
    "print('label for each of the above image: %s' % (y_train[0:10]))"
   ]
  },
  {
   "cell_type": "markdown",
   "metadata": {
    "id": "kzoyeXHOy80N"
   },
   "source": [
    "## **Data preparation**\n",
    "\n",
    "- Print the shape and the array of pixels for the first image in the training dataset.\n",
    "- Reshape the train and the test dataset because we always have to give a 4D array as input to CNNs.\n",
    "- Normalize the train and the test dataset by dividing by 255.\n",
    "- Print the new shapes of the train and the test dataset.\n",
    "- One-hot encode the target variable."
   ]
  },
  {
   "cell_type": "code",
   "execution_count": 7,
   "metadata": {
    "colab": {
     "base_uri": "https://localhost:8080/"
    },
    "id": "NqndzQXng9rL",
    "outputId": "856c4416-d616-4d08-f531-2ae8f0497b83"
   },
   "outputs": [
    {
     "name": "stdout",
     "output_type": "stream",
     "text": [
      "Shape: (32, 32)\n",
      "\n",
      "First image:\n",
      " [[ 33.0704  30.2601  26.852  ...  71.4471  58.2204  42.9939]\n",
      " [ 25.2283  25.5533  29.9765 ... 113.0209 103.3639  84.2949]\n",
      " [ 26.2775  22.6137  40.4763 ... 113.3028 121.775  115.4228]\n",
      " ...\n",
      " [ 28.5502  36.212   45.0801 ...  24.1359  25.0927  26.0603]\n",
      " [ 38.4352  26.4733  23.2717 ...  28.1094  29.4683  30.0661]\n",
      " [ 50.2984  26.0773  24.0389 ...  49.6682  50.853   53.0377]]\n"
     ]
    }
   ],
   "source": [
    "# Shape and the array of pixels for the first image\n",
    "\n",
    "print(\"Shape:\", X_train[0].shape)\n",
    "\n",
    "print()\n",
    "\n",
    "print(\"First image:\\n\", X_train[0])"
   ]
  },
  {
   "cell_type": "code",
   "execution_count": 8,
   "metadata": {
    "id": "D9YPwf9ysqWU"
   },
   "outputs": [],
   "source": [
    "# Reshaping the dataset to be able to pass them to CNNs. Remember that we always have to give a 4D array as input to CNNs\n",
    "\n",
    "X_train = X_train.reshape(X_train.shape[0], 32, 32, 1)\n",
    "\n",
    "X_test = X_test.reshape(X_test.shape[0], 32, 32, 1)"
   ]
  },
  {
   "cell_type": "code",
   "execution_count": 9,
   "metadata": {
    "id": "q_yUUTp_mUzB"
   },
   "outputs": [],
   "source": [
    "# Normalize inputs from 0-255 to 0-1\n",
    "\n",
    "X_train = X_train / 255.0\n",
    "\n",
    "X_test = X_test / 255.0"
   ]
  },
  {
   "cell_type": "code",
   "execution_count": 10,
   "metadata": {
    "colab": {
     "base_uri": "https://localhost:8080/"
    },
    "id": "t7FSqOpamWkH",
    "outputId": "7fff6195-2af9-45cd-8d14-543f677b23be"
   },
   "outputs": [
    {
     "name": "stdout",
     "output_type": "stream",
     "text": [
      "Training set: (42000, 32, 32, 1) (42000,)\n",
      "Test set: (18000, 32, 32, 1) (18000,)\n"
     ]
    }
   ],
   "source": [
    "# New shape \n",
    "\n",
    "print('Training set:', X_train.shape, y_train.shape)\n",
    "\n",
    "print('Test set:', X_test.shape, y_test.shape)"
   ]
  },
  {
   "cell_type": "markdown",
   "metadata": {
    "id": "10QaOV-xR7Jn"
   },
   "source": [
    "### **Question 2: One-hot encode the labels in the target variable y_train and y_test. (2 Marks)**"
   ]
  },
  {
   "cell_type": "code",
   "execution_count": 11,
   "metadata": {
    "colab": {
     "base_uri": "https://localhost:8080/"
    },
    "id": "zL0lYER4sqWw",
    "outputId": "6afd9c62-ff37-427f-8120-ef0c97188dcc"
   },
   "outputs": [
    {
     "data": {
      "text/plain": [
       "array([[0., 1., 0., ..., 0., 0., 0.],\n",
       "       [0., 0., 0., ..., 1., 0., 0.],\n",
       "       [0., 0., 1., ..., 0., 0., 0.],\n",
       "       ...,\n",
       "       [0., 0., 0., ..., 1., 0., 0.],\n",
       "       [0., 0., 0., ..., 0., 0., 1.],\n",
       "       [0., 0., 1., ..., 0., 0., 0.]], dtype=float32)"
      ]
     },
     "execution_count": 11,
     "metadata": {},
     "output_type": "execute_result"
    }
   ],
   "source": [
    "# Write the function and appropriate variable name to one-hot encode the output\n",
    "\n",
    "y_train = to_categorical(y_train)\n",
    "\n",
    "y_test = to_categorical(y_test)\n",
    "\n",
    "# test labels\n",
    "\n",
    "y_test"
   ]
  },
  {
   "cell_type": "markdown",
   "metadata": {
    "id": "ViqPOTquCF76"
   },
   "source": [
    "**Observation:**\n",
    "- Notice that each entry of the target variable is a one-hot encoded vector instead of a single label."
   ]
  },
  {
   "cell_type": "markdown",
   "metadata": {
    "id": "yH-gVrzuByNA"
   },
   "source": [
    "## **Model Building**\n",
    "\n",
    "Now that we have done data preprocessing, let's build a CNN model."
   ]
  },
  {
   "cell_type": "code",
   "execution_count": 12,
   "metadata": {
    "id": "ZY5pyF4-KDNt"
   },
   "outputs": [],
   "source": [
    "# Fixing the seed for random number generators\n",
    "\n",
    "np.random.seed(42)\n",
    "\n",
    "import random\n",
    "\n",
    "random.seed(42)\n",
    "\n",
    "tf.random.set_seed(42)"
   ]
  },
  {
   "cell_type": "markdown",
   "metadata": {
    "id": "UJDUoaEj1d6e"
   },
   "source": [
    "### **Model Architecture**\n",
    "- **Write a function** that returns a sequential model with the following architecture:\n",
    " - First Convolutional layer with **16 filters and the kernel size of 3x3**. Use the **'same' padding** and provide the **input shape = (32, 32, 1)**\n",
    " - Add a **LeakyRelu layer** with the **slope equal to 0.1**\n",
    " - Second Convolutional layer with **32 filters and the kernel size of 3x3 with 'same' padding**\n",
    " - Another **LeakyRelu** with the **slope equal to 0.1**\n",
    " - A **max-pooling layer** with a **pool size of 2x2**\n",
    " - **Flatten** the output from the previous layer\n",
    " - Add a **dense layer with 32 nodes**\n",
    " - Add a **LeakyRelu layer with the slope equal to 0.1**\n",
    " - Add the final **output layer with nodes equal to the number of classes, i.e., 10** and **'softmax' as the activation function**\n",
    " - Compile the model with the **loss equal to categorical_crossentropy, optimizer equal to Adam(learning_rate = 0.001), and metric equal to 'accuracy'**. Do not fit the model here, just return the compiled model.\n",
    "- Call the function cnn_model_1 and store the output in a new variable.\n",
    "- Print the summary of the model.\n",
    "- Fit the model on the training data with a **validation split of 0.2, batch size = 32, verbose = 1, and epochs = 20**. Store the model building history to use later for visualization."
   ]
  },
  {
   "cell_type": "markdown",
   "metadata": {
    "id": "JWsAd45JKDNu"
   },
   "source": [
    "### **Question 3: Build and train a CNN model as per the above mentioned architecture. (10 Marks)**"
   ]
  },
  {
   "cell_type": "code",
   "execution_count": 13,
   "metadata": {
    "id": "Cmi81Gr5sqW-"
   },
   "outputs": [],
   "source": [
    "# Define the model\n",
    "\n",
    "def cnn_model_1():\n",
    "\n",
    "    model = Sequential() \n",
    "    \n",
    "    # Add layers as per the architecture mentioned above in the same sequence\n",
    "\n",
    "    model.add(Conv2D(filters = 16, kernel_size = (3, 3), padding = 'same', input_shape = (32, 32, 1)))\n",
    "\n",
    "    model.add(LeakyReLU(0.1))\n",
    "\n",
    "    model.add(Conv2D(filters = 32, kernel_size = (3, 3), padding = 'same'))\n",
    "\n",
    "    model.add(LeakyReLU(0.1))\n",
    "\n",
    "    model.add(MaxPool2D(pool_size=(2, 2)))\n",
    "\n",
    "    model.add(Flatten())\n",
    "\n",
    "    model.add(Dense(32))\n",
    "\n",
    "    model.add(LeakyReLU(0.1))\n",
    "\n",
    "    model.add(Dense(10, activation = 'softmax'))\n",
    "    \n",
    "    # Compile the model\n",
    "\n",
    "    model.compile(loss = 'categorical_crossentropy', optimizer = tf.keras.optimizers.Adam(learning_rate = 0.001), metrics = ['accuracy'])\n",
    "    \n",
    "    return model"
   ]
  },
  {
   "cell_type": "code",
   "execution_count": 14,
   "metadata": {
    "id": "bGCUI_xsImnH"
   },
   "outputs": [],
   "source": [
    "# Build the model\n",
    "\n",
    "model_1 = cnn_model_1()"
   ]
  },
  {
   "cell_type": "code",
   "execution_count": 15,
   "metadata": {
    "colab": {
     "base_uri": "https://localhost:8080/"
    },
    "id": "ckJsLdmdQadZ",
    "outputId": "726efa92-ffa3-42e5-d10a-6c1be97d3658"
   },
   "outputs": [
    {
     "name": "stdout",
     "output_type": "stream",
     "text": [
      "Model: \"sequential\"\n",
      "_________________________________________________________________\n",
      " Layer (type)                Output Shape              Param #   \n",
      "=================================================================\n",
      " conv2d (Conv2D)             (None, 32, 32, 16)        160       \n",
      "                                                                 \n",
      " leaky_re_lu (LeakyReLU)     (None, 32, 32, 16)        0         \n",
      "                                                                 \n",
      " conv2d_1 (Conv2D)           (None, 32, 32, 32)        4640      \n",
      "                                                                 \n",
      " leaky_re_lu_1 (LeakyReLU)   (None, 32, 32, 32)        0         \n",
      "                                                                 \n",
      " max_pooling2d (MaxPooling2D  (None, 16, 16, 32)       0         \n",
      " )                                                               \n",
      "                                                                 \n",
      " flatten (Flatten)           (None, 8192)              0         \n",
      "                                                                 \n",
      " dense (Dense)               (None, 32)                262176    \n",
      "                                                                 \n",
      " leaky_re_lu_2 (LeakyReLU)   (None, 32)                0         \n",
      "                                                                 \n",
      " dense_1 (Dense)             (None, 10)                330       \n",
      "                                                                 \n",
      "=================================================================\n",
      "Total params: 267,306\n",
      "Trainable params: 267,306\n",
      "Non-trainable params: 0\n",
      "_________________________________________________________________\n"
     ]
    }
   ],
   "source": [
    "# Print the model summary\n",
    "\n",
    "model_1.summary()"
   ]
  },
  {
   "cell_type": "code",
   "execution_count": 16,
   "metadata": {
    "colab": {
     "base_uri": "https://localhost:8080/"
    },
    "id": "3Fy3Dif_zcCk",
    "outputId": "b8fb9169-a529-4f46-947f-c9fb211ac295"
   },
   "outputs": [
    {
     "name": "stdout",
     "output_type": "stream",
     "text": [
      "Epoch 1/20\n",
      "1050/1050 [==============================] - 15s 5ms/step - loss: 1.1794 - accuracy: 0.6091 - val_loss: 0.6327 - val_accuracy: 0.8180\n",
      "Epoch 2/20\n",
      "1050/1050 [==============================] - 4s 4ms/step - loss: 0.5353 - accuracy: 0.8472 - val_loss: 0.5171 - val_accuracy: 0.8546\n",
      "Epoch 3/20\n",
      "1050/1050 [==============================] - 4s 4ms/step - loss: 0.4423 - accuracy: 0.8695 - val_loss: 0.5028 - val_accuracy: 0.8586\n",
      "Epoch 4/20\n",
      "1050/1050 [==============================] - 4s 4ms/step - loss: 0.3815 - accuracy: 0.8899 - val_loss: 0.4538 - val_accuracy: 0.8706\n",
      "Epoch 5/20\n",
      "1050/1050 [==============================] - 4s 4ms/step - loss: 0.3373 - accuracy: 0.8995 - val_loss: 0.4531 - val_accuracy: 0.8733\n",
      "Epoch 6/20\n",
      "1050/1050 [==============================] - 4s 4ms/step - loss: 0.2958 - accuracy: 0.9123 - val_loss: 0.4688 - val_accuracy: 0.8708\n",
      "Epoch 7/20\n",
      "1050/1050 [==============================] - 4s 4ms/step - loss: 0.2679 - accuracy: 0.9192 - val_loss: 0.4866 - val_accuracy: 0.8665\n",
      "Epoch 8/20\n",
      "1050/1050 [==============================] - 4s 4ms/step - loss: 0.2384 - accuracy: 0.9277 - val_loss: 0.5147 - val_accuracy: 0.8640\n",
      "Epoch 9/20\n",
      "1050/1050 [==============================] - 4s 4ms/step - loss: 0.2167 - accuracy: 0.9336 - val_loss: 0.5006 - val_accuracy: 0.8771\n",
      "Epoch 10/20\n",
      "1050/1050 [==============================] - 4s 4ms/step - loss: 0.1956 - accuracy: 0.9394 - val_loss: 0.5276 - val_accuracy: 0.8739\n",
      "Epoch 11/20\n",
      "1050/1050 [==============================] - 4s 4ms/step - loss: 0.1717 - accuracy: 0.9470 - val_loss: 0.5656 - val_accuracy: 0.8682\n",
      "Epoch 12/20\n",
      "1050/1050 [==============================] - 4s 4ms/step - loss: 0.1564 - accuracy: 0.9508 - val_loss: 0.5916 - val_accuracy: 0.8624\n",
      "Epoch 13/20\n",
      "1050/1050 [==============================] - 4s 4ms/step - loss: 0.1431 - accuracy: 0.9540 - val_loss: 0.6300 - val_accuracy: 0.8698\n",
      "Epoch 14/20\n",
      "1050/1050 [==============================] - 4s 4ms/step - loss: 0.1238 - accuracy: 0.9612 - val_loss: 0.6443 - val_accuracy: 0.8721\n",
      "Epoch 15/20\n",
      "1050/1050 [==============================] - 4s 4ms/step - loss: 0.1162 - accuracy: 0.9635 - val_loss: 0.6622 - val_accuracy: 0.8680\n",
      "Epoch 16/20\n",
      "1050/1050 [==============================] - 4s 4ms/step - loss: 0.1099 - accuracy: 0.9638 - val_loss: 0.6975 - val_accuracy: 0.8693\n",
      "Epoch 17/20\n",
      "1050/1050 [==============================] - 4s 4ms/step - loss: 0.0917 - accuracy: 0.9712 - val_loss: 0.7493 - val_accuracy: 0.8663\n",
      "Epoch 18/20\n",
      "1050/1050 [==============================] - 4s 4ms/step - loss: 0.0907 - accuracy: 0.9710 - val_loss: 0.7736 - val_accuracy: 0.8636\n",
      "Epoch 19/20\n",
      "1050/1050 [==============================] - 4s 4ms/step - loss: 0.0783 - accuracy: 0.9746 - val_loss: 0.8080 - val_accuracy: 0.8636\n",
      "Epoch 20/20\n",
      "1050/1050 [==============================] - 4s 4ms/step - loss: 0.0717 - accuracy: 0.9765 - val_loss: 0.8432 - val_accuracy: 0.8583\n"
     ]
    }
   ],
   "source": [
    "# Fit the model\n",
    "\n",
    "history_model_1 = model_1.fit(X_train, y_train, validation_split = 0.2, batch_size = 32, verbose = 1, epochs = 20)"
   ]
  },
  {
   "cell_type": "markdown",
   "metadata": {
    "id": "tKOckG-KPyLg"
   },
   "source": [
    "### **Plotting the validation and training accuracies**"
   ]
  },
  {
   "cell_type": "markdown",
   "metadata": {
    "id": "JPzfIf9kKDNw"
   },
   "source": [
    "### **Question 4: Write your observations on the below plot. (2 Marks)**"
   ]
  },
  {
   "cell_type": "code",
   "execution_count": 17,
   "metadata": {
    "colab": {
     "base_uri": "https://localhost:8080/",
     "height": 497
    },
    "id": "lt77zgGMP4yw",
    "outputId": "a1a64035-b86e-4abe-c38e-875a795cfecf"
   },
   "outputs": [
    {
     "data": {
      "image/png": "[encoded data removed]",
      "text/plain": [
       "<Figure size 576x576 with 1 Axes>"
      ]
     },
     "metadata": {
      "needs_background": "light"
     },
     "output_type": "display_data"
    }
   ],
   "source": [
    "# Plotting the accuracies\n",
    "\n",
    "dict_hist = history_model_1.history\n",
    "\n",
    "list_ep = [i for i in range(1, 21)]\n",
    "\n",
    "plt.figure(figsize = (8, 8))\n",
    "\n",
    "plt.plot(list_ep, dict_hist['accuracy'], ls = '--', label = 'accuracy')\n",
    "\n",
    "plt.plot(list_ep, dict_hist['val_accuracy'], ls = '--', label = 'val_accuracy')\n",
    "\n",
    "plt.ylabel('Accuracy')\n",
    "\n",
    "plt.xlabel('Epochs')\n",
    "\n",
    "plt.legend()\n",
    "\n",
    "plt.show()"
   ]
  },
  {
   "cell_type": "markdown",
   "metadata": {
    "id": "pGBbQpLONX7k"
   },
   "source": [
    "**Observations:**\n",
    "- We see that the model has done poorly on the validation data as the validation accuracy is lower than the training accuracy. \n",
    "- This indicates that the model is highly overfitting the training data.\n",
    "- The validation accuracy has become more or less constant (~87%) after 4 epochs.\n"
   ]
  },
  {
   "cell_type": "markdown",
   "metadata": {
    "id": "z0qgLMBZm5-K"
   },
   "source": [
    "Let's build another model and see if we can get a better model with generalized performance.\n",
    "\n",
    "First, we need to clear the previous model's history from the Keras backend. Also, let's fix the seed again after clearing the backend."
   ]
  },
  {
   "cell_type": "code",
   "execution_count": 18,
   "metadata": {
    "id": "y98BpLxsok_H"
   },
   "outputs": [],
   "source": [
    "# Clearing backend\n",
    "\n",
    "from tensorflow.keras import backend\n",
    "\n",
    "backend.clear_session()"
   ]
  },
  {
   "cell_type": "code",
   "execution_count": 19,
   "metadata": {
    "id": "HbKi93HTolGW"
   },
   "outputs": [],
   "source": [
    "# Fixing the seed for random number generators\n",
    "\n",
    "np.random.seed(42)\n",
    "\n",
    "import random\n",
    "\n",
    "random.seed(42)\n",
    "\n",
    "tf.random.set_seed(42)"
   ]
  },
  {
   "cell_type": "markdown",
   "metadata": {
    "id": "lT6o3TIKuCtk"
   },
   "source": [
    "### **Second Model Architecture**\n",
    "\n",
    "- Write a function that returns a sequential model with the following architecture:\n",
    " - First Convolutional layer with **16 filters and the kernel size of 3x3**. Use the **'same' padding** and provide the **input shape = (32, 32, 1)**\n",
    " - Add a **LeakyRelu layer** with the **slope equal to 0.1**\n",
    " - Second Convolutional layer with **32 filters and the kernel size of 3x3 with 'same' padding**\n",
    " - Add **LeakyRelu** with the **slope equal to 0.1**\n",
    " - Add a **max-pooling layer** with a **pool size of 2x2**\n",
    " - Add a **BatchNormalization layer**\n",
    " - Third Convolutional layer with **32 filters and the kernel size of 3x3 with 'same' padding**\n",
    " - Add a **LeakyRelu layer with the slope equal to 0.1**\n",
    " - Fourth Convolutional layer **64 filters and the kernel size of 3x3 with 'same' padding** \n",
    " - Add a **LeakyRelu layer with the slope equal to 0.1**\n",
    " - Add a **max-pooling layer** with a **pool size of 2x2**\n",
    " - Add a **BatchNormalization layer**\n",
    " - **Flatten** the output from the previous layer\n",
    " - Add a **dense layer with 32 nodes**\n",
    " - Add a **LeakyRelu layer with the slope equal to 0.1**\n",
    " - Add a **dropout layer with the rate equal to 0.5**\n",
    " - Add the final **output layer with nodes equal to the number of classes, i.e., 10** and **'softmax' as the activation function**\n",
    " - Compile the model with the **categorical_crossentropy loss, adam optimizers (learning_rate = 0.001), and metric equal to 'accuracy'**. Do not fit the model here, just return the compiled model.\n",
    "- Call the function cnn_model_2 and store the model in a new variable.\n",
    "- Print the summary of the model.\n",
    "- Fit the model on the train data with a **validation split of 0.2, batch size = 128, verbose = 1, and epochs = 30**. Store the model building history to use later for visualization."
   ]
  },
  {
   "cell_type": "markdown",
   "metadata": {
    "id": "y5IBLS1eKDNy"
   },
   "source": [
    "### **Question 5: Build and train the second CNN model as per the above mentioned architecture. (10 Marks)**"
   ]
  },
  {
   "cell_type": "code",
   "execution_count": 20,
   "metadata": {
    "id": "EEPYLFIPnSDP"
   },
   "outputs": [],
   "source": [
    "# Define the model\n",
    "\n",
    "def cnn_model_2():\n",
    "    \n",
    "    model = Sequential()\n",
    "    \n",
    "    # Add layers as per the architecture mentioned above in the same sequence\n",
    "\n",
    "    model.add(Conv2D(filters = 16, kernel_size = (3, 3), padding = 'same', input_shape = (32, 32, 1)))\n",
    "\n",
    "    model.add(LeakyReLU(0.1))\n",
    "\n",
    "    model.add(Conv2D(filters = 32, kernel_size = (3, 3), padding = 'same'))\n",
    "\n",
    "    model.add(LeakyReLU(0.1))\n",
    "\n",
    "    model.add(MaxPool2D(pool_size = (2, 2)))\n",
    "\n",
    "    model.add(BatchNormalization())\n",
    "\n",
    "    model.add(Conv2D(filters = 32, kernel_size = (3, 3), padding = 'same'))\n",
    "\n",
    "    model.add(LeakyReLU(0.1))\n",
    "\n",
    "    model.add(Conv2D(filters = 64, kernel_size = (3, 3), padding = 'same'))\n",
    "\n",
    "    model.add(LeakyReLU(0.1))\n",
    "\n",
    "    model.add(MaxPool2D(pool_size = (2, 2)))\n",
    "\n",
    "    model.add(BatchNormalization())\n",
    "\n",
    "    model.add(Flatten())\n",
    "\n",
    "    model.add(Dense(32))\n",
    "\n",
    "    model.add(LeakyReLU(0.1))\n",
    "\n",
    "    model.add(Dropout(0.5))\n",
    "\n",
    "    model.add(Dense(10, activation = 'softmax'))\n",
    "\n",
    "    # Compile the model\n",
    "\n",
    "    model.compile(loss = 'categorical_crossentropy', optimizer = tf.keras.optimizers.Adam(learning_rate = 0.001), metrics = ['accuracy']) \n",
    "    \n",
    "    return model"
   ]
  },
  {
   "cell_type": "code",
   "execution_count": 21,
   "metadata": {
    "id": "AKjDY4plnSFl"
   },
   "outputs": [],
   "source": [
    "# Build the model\n",
    "\n",
    "model_2 = cnn_model_2()"
   ]
  },
  {
   "cell_type": "code",
   "execution_count": 22,
   "metadata": {
    "colab": {
     "base_uri": "https://localhost:8080/"
    },
    "id": "gz_6SVrU2swZ",
    "outputId": "92a3cce4-bd3e-4881-d1fc-73501c732a39"
   },
   "outputs": [
    {
     "name": "stdout",
     "output_type": "stream",
     "text": [
      "Model: \"sequential\"\n",
      "_________________________________________________________________\n",
      " Layer (type)                Output Shape              Param #   \n",
      "=================================================================\n",
      " conv2d (Conv2D)             (None, 32, 32, 16)        160       \n",
      "                                                                 \n",
      " leaky_re_lu (LeakyReLU)     (None, 32, 32, 16)        0         \n",
      "                                                                 \n",
      " conv2d_1 (Conv2D)           (None, 32, 32, 32)        4640      \n",
      "                                                                 \n",
      " leaky_re_lu_1 (LeakyReLU)   (None, 32, 32, 32)        0         \n",
      "                                                                 \n",
      " max_pooling2d (MaxPooling2D  (None, 16, 16, 32)       0         \n",
      " )                                                               \n",
      "                                                                 \n",
      " batch_normalization (BatchN  (None, 16, 16, 32)       128       \n",
      " ormalization)                                                   \n",
      "                                                                 \n",
      " conv2d_2 (Conv2D)           (None, 16, 16, 32)        9248      \n",
      "                                                                 \n",
      " leaky_re_lu_2 (LeakyReLU)   (None, 16, 16, 32)        0         \n",
      "                                                                 \n",
      " conv2d_3 (Conv2D)           (None, 16, 16, 64)        18496     \n",
      "                                                                 \n",
      " leaky_re_lu_3 (LeakyReLU)   (None, 16, 16, 64)        0         \n",
      "                                                                 \n",
      " max_pooling2d_1 (MaxPooling  (None, 8, 8, 64)         0         \n",
      " 2D)                                                             \n",
      "                                                                 \n",
      " batch_normalization_1 (Batc  (None, 8, 8, 64)         256       \n",
      " hNormalization)                                                 \n",
      "                                                                 \n",
      " flatten (Flatten)           (None, 4096)              0         \n",
      "                                                                 \n",
      " dense (Dense)               (None, 32)                131104    \n",
      "                                                                 \n",
      " leaky_re_lu_4 (LeakyReLU)   (None, 32)                0         \n",
      "                                                                 \n",
      " dropout (Dropout)           (None, 32)                0         \n",
      "                                                                 \n",
      " dense_1 (Dense)             (None, 10)                330       \n",
      "                                                                 \n",
      "=================================================================\n",
      "Total params: 164,362\n",
      "Trainable params: 164,170\n",
      "Non-trainable params: 192\n",
      "_________________________________________________________________\n"
     ]
    }
   ],
   "source": [
    "# Print the summary\n",
    "\n",
    "model_2.summary()"
   ]
  },
  {
   "cell_type": "code",
   "execution_count": 23,
   "metadata": {
    "colab": {
     "base_uri": "https://localhost:8080/"
    },
    "id": "IQ0Sc4R-y-uu",
    "outputId": "fc6dbcdf-67b3-4639-b14b-ca35286e34b6"
   },
   "outputs": [
    {
     "name": "stdout",
     "output_type": "stream",
     "text": [
      "Epoch 1/30\n",
      "263/263 [==============================] - 4s 11ms/step - loss: 1.4691 - accuracy: 0.5000 - val_loss: 2.5506 - val_accuracy: 0.1643\n",
      "Epoch 2/30\n",
      "263/263 [==============================] - 2s 9ms/step - loss: 0.6977 - accuracy: 0.7840 - val_loss: 0.7652 - val_accuracy: 0.7612\n",
      "Epoch 3/30\n",
      "263/263 [==============================] - 2s 9ms/step - loss: 0.5656 - accuracy: 0.8278 - val_loss: 0.5155 - val_accuracy: 0.8451\n",
      "Epoch 4/30\n",
      "263/263 [==============================] - 2s 9ms/step - loss: 0.5025 - accuracy: 0.8468 - val_loss: 0.4427 - val_accuracy: 0.8670\n",
      "Epoch 5/30\n",
      "263/263 [==============================] - 2s 9ms/step - loss: 0.4512 - accuracy: 0.8629 - val_loss: 0.4202 - val_accuracy: 0.8820\n",
      "Epoch 6/30\n",
      "263/263 [==============================] - 2s 9ms/step - loss: 0.4137 - accuracy: 0.8729 - val_loss: 0.4077 - val_accuracy: 0.8832\n",
      "Epoch 7/30\n",
      "263/263 [==============================] - 2s 9ms/step - loss: 0.3890 - accuracy: 0.8798 - val_loss: 0.4715 - val_accuracy: 0.8645\n",
      "Epoch 8/30\n",
      "263/263 [==============================] - 2s 9ms/step - loss: 0.3574 - accuracy: 0.8894 - val_loss: 0.3919 - val_accuracy: 0.8913\n",
      "Epoch 9/30\n",
      "263/263 [==============================] - 2s 9ms/step - loss: 0.3317 - accuracy: 0.8966 - val_loss: 0.3356 - val_accuracy: 0.9083\n",
      "Epoch 10/30\n",
      "263/263 [==============================] - 2s 9ms/step - loss: 0.3247 - accuracy: 0.8979 - val_loss: 0.3513 - val_accuracy: 0.9039\n",
      "Epoch 11/30\n",
      "263/263 [==============================] - 2s 9ms/step - loss: 0.3011 - accuracy: 0.9049 - val_loss: 0.4180 - val_accuracy: 0.8952\n",
      "Epoch 12/30\n",
      "263/263 [==============================] - 2s 9ms/step - loss: 0.2805 - accuracy: 0.9096 - val_loss: 0.3842 - val_accuracy: 0.9005\n",
      "Epoch 13/30\n",
      "263/263 [==============================] - 2s 9ms/step - loss: 0.2709 - accuracy: 0.9135 - val_loss: 0.4504 - val_accuracy: 0.8877\n",
      "Epoch 14/30\n",
      "263/263 [==============================] - 2s 9ms/step - loss: 0.2604 - accuracy: 0.9184 - val_loss: 0.4220 - val_accuracy: 0.9026\n",
      "Epoch 15/30\n",
      "263/263 [==============================] - 2s 9ms/step - loss: 0.2524 - accuracy: 0.9189 - val_loss: 0.4578 - val_accuracy: 0.8813\n",
      "Epoch 16/30\n",
      "263/263 [==============================] - 2s 9ms/step - loss: 0.2414 - accuracy: 0.9221 - val_loss: 0.3677 - val_accuracy: 0.9062\n",
      "Epoch 17/30\n",
      "263/263 [==============================] - 2s 9ms/step - loss: 0.2347 - accuracy: 0.9232 - val_loss: 0.4032 - val_accuracy: 0.9070\n",
      "Epoch 18/30\n",
      "263/263 [==============================] - 2s 9ms/step - loss: 0.2218 - accuracy: 0.9282 - val_loss: 0.4144 - val_accuracy: 0.9085\n",
      "Epoch 19/30\n",
      "263/263 [==============================] - 2s 9ms/step - loss: 0.2223 - accuracy: 0.9281 - val_loss: 0.3908 - val_accuracy: 0.9090\n",
      "Epoch 20/30\n",
      "263/263 [==============================] - 2s 9ms/step - loss: 0.2062 - accuracy: 0.9335 - val_loss: 0.3910 - val_accuracy: 0.9108\n",
      "Epoch 21/30\n",
      "263/263 [==============================] - 3s 10ms/step - loss: 0.1981 - accuracy: 0.9346 - val_loss: 0.4223 - val_accuracy: 0.8954\n",
      "Epoch 22/30\n",
      "263/263 [==============================] - 2s 9ms/step - loss: 0.1843 - accuracy: 0.9392 - val_loss: 0.4576 - val_accuracy: 0.9046\n",
      "Epoch 23/30\n",
      "263/263 [==============================] - 3s 10ms/step - loss: 0.1829 - accuracy: 0.9412 - val_loss: 0.4360 - val_accuracy: 0.9088\n",
      "Epoch 24/30\n",
      "263/263 [==============================] - 3s 10ms/step - loss: 0.1823 - accuracy: 0.9404 - val_loss: 0.4664 - val_accuracy: 0.8940\n",
      "Epoch 25/30\n",
      "263/263 [==============================] - 3s 11ms/step - loss: 0.1719 - accuracy: 0.9436 - val_loss: 0.4519 - val_accuracy: 0.9025\n",
      "Epoch 26/30\n",
      "263/263 [==============================] - 3s 10ms/step - loss: 0.1686 - accuracy: 0.9438 - val_loss: 0.4553 - val_accuracy: 0.9098\n",
      "Epoch 27/30\n",
      "263/263 [==============================] - 2s 9ms/step - loss: 0.1663 - accuracy: 0.9443 - val_loss: 0.4978 - val_accuracy: 0.9026\n",
      "Epoch 28/30\n",
      "263/263 [==============================] - 2s 9ms/step - loss: 0.1584 - accuracy: 0.9468 - val_loss: 0.4436 - val_accuracy: 0.9139\n",
      "Epoch 29/30\n",
      "263/263 [==============================] - 2s 9ms/step - loss: 0.1520 - accuracy: 0.9486 - val_loss: 0.4714 - val_accuracy: 0.9042\n",
      "Epoch 30/30\n",
      "263/263 [==============================] - 2s 9ms/step - loss: 0.1567 - accuracy: 0.9481 - val_loss: 0.4707 - val_accuracy: 0.8994\n"
     ]
    }
   ],
   "source": [
    "# Fit the model\n",
    "\n",
    "history_model_2 = model_2.fit(X_train, y_train, validation_split = 0.2, batch_size = 128, verbose = 1, epochs = 30)"
   ]
  },
  {
   "cell_type": "markdown",
   "metadata": {
    "id": "zKCdy59GKDN1"
   },
   "source": [
    "### **Plotting the validation and training accuracies**"
   ]
  },
  {
   "cell_type": "markdown",
   "metadata": {
    "id": "PyhUtMy3KDN1"
   },
   "source": [
    "### **Question 6: Write your observations on the below plot. (2 Marks)**"
   ]
  },
  {
   "cell_type": "code",
   "execution_count": 24,
   "metadata": {
    "colab": {
     "base_uri": "https://localhost:8080/",
     "height": 497
    },
    "id": "01ig6BrF1KVy",
    "outputId": "797f9a46-0f9a-4004-c985-7f723d648a68"
   },
   "outputs": [
    {
     "data": {
      "image/png": "[encoded data removed]",
      "text/plain": [
       "<Figure size 576x576 with 1 Axes>"
      ]
     },
     "metadata": {
      "needs_background": "light"
     },
     "output_type": "display_data"
    }
   ],
   "source": [
    "# Plotting the accuracies\n",
    "\n",
    "dict_hist = history_model_2.history\n",
    "\n",
    "list_ep = [i for i in range(1, 31)]\n",
    "\n",
    "plt.figure(figsize = (8, 8))\n",
    "\n",
    "plt.plot(list_ep, dict_hist['accuracy'], ls = '--', label = 'accuracy')\n",
    "\n",
    "plt.plot(list_ep, dict_hist['val_accuracy'], ls = '--', label = 'val_accuracy')\n",
    "\n",
    "plt.ylabel('Accuracy')\n",
    "\n",
    "plt.xlabel('Epochs')\n",
    "\n",
    "plt.legend()\n",
    "\n",
    "plt.show()"
   ]
  },
  {
   "cell_type": "markdown",
   "metadata": {
    "id": "VPW1LlD61RDn"
   },
   "source": [
    "**Observations:**\n",
    "- The validation accuracy has improved substantially and the problem of overfitting has been solved. \n",
    "- We can see that the model is giving a generalized performance.\n",
    "- There are a bit fluctuations between ~10 to 30 epochs. We see that the validation accuracy within that range is close to ~90%.\n",
    "- After 30 epochs, the accuracy of the model on the training data is about 94.8% and the validation accuracy is 89.9%.\n"
   ]
  },
  {
   "cell_type": "markdown",
   "metadata": {
    "id": "8kuXx9Bvu00f"
   },
   "source": [
    "## **Predictions on the test data**\n",
    "\n",
    "- Make predictions on the test set using the second model.\n",
    "- Print the obtained results using the classification report and the confusion matrix.\n",
    "- Final observations on the obtained results."
   ]
  },
  {
   "cell_type": "markdown",
   "metadata": {
    "id": "eHCRwRbgKDN2"
   },
   "source": [
    "### **Question 7: Make predictions on the test data using the second model. (1 Mark)** "
   ]
  },
  {
   "cell_type": "code",
   "execution_count": 25,
   "metadata": {
    "id": "xbWMEtTj5Ad0"
   },
   "outputs": [],
   "source": [
    "# Make prediction on the test data using model_2 \n",
    "\n",
    "test_pred = model_2.predict(X_test)\n",
    "\n",
    "test_pred = np.argmax(test_pred, axis = -1)"
   ]
  },
  {
   "cell_type": "markdown",
   "metadata": {
    "id": "i3li8Ib08yts"
   },
   "source": [
    "**Note:** Earlier, we noticed that each entry of the target variable is a one-hot encoded vector, but to print the classification report and confusion matrix, we must convert each entry of y_test to a single label."
   ]
  },
  {
   "cell_type": "code",
   "execution_count": 26,
   "metadata": {
    "id": "NByu7uAQ8x9P"
   },
   "outputs": [],
   "source": [
    "# Converting each entry to single label from one-hot encoded vector\n",
    "\n",
    "y_test = np.argmax(y_test, axis = -1)"
   ]
  },
  {
   "cell_type": "markdown",
   "metadata": {
    "id": "aVCa-ysWKDN3"
   },
   "source": [
    "### **Question 8: Write your final observations on the performance of the model on the test data. (2 Marks)**"
   ]
  },
  {
   "cell_type": "code",
   "execution_count": 27,
   "metadata": {
    "colab": {
     "base_uri": "https://localhost:8080/",
     "height": 638
    },
    "id": "xRddeJ-3EHT1",
    "outputId": "53f2b96b-9bf5-4fae-c332-0e5a4df12bcb"
   },
   "outputs": [
    {
     "name": "stdout",
     "output_type": "stream",
     "text": [
      "              precision    recall  f1-score   support\n",
      "\n",
      "           0       0.86      0.96      0.91      1814\n",
      "           1       0.85      0.94      0.89      1828\n",
      "           2       0.94      0.91      0.93      1803\n",
      "           3       0.91      0.87      0.89      1719\n",
      "           4       0.94      0.92      0.93      1812\n",
      "           5       0.92      0.89      0.90      1768\n",
      "           6       0.87      0.89      0.88      1832\n",
      "           7       0.95      0.91      0.93      1808\n",
      "           8       0.89      0.88      0.88      1812\n",
      "           9       0.93      0.88      0.90      1804\n",
      "\n",
      "    accuracy                           0.90     18000\n",
      "   macro avg       0.91      0.90      0.90     18000\n",
      "weighted avg       0.91      0.90      0.90     18000\n",
      "\n"
     ]
    },
    {
     "data": {
      "image/png": "[encoded data removed]",
      "text/plain": [
       "<Figure size 576x360 with 2 Axes>"
      ]
     },
     "metadata": {
      "needs_background": "light"
     },
     "output_type": "display_data"
    }
   ],
   "source": [
    "# Importing required functions\n",
    "\n",
    "from sklearn.metrics import classification_report\n",
    "\n",
    "from sklearn.metrics import confusion_matrix\n",
    "\n",
    "# Printing the classification report\n",
    "\n",
    "print(classification_report(y_test, test_pred))\n",
    "\n",
    "# Plotting the heatmap using confusion matrix\n",
    "\n",
    "cm = confusion_matrix(y_test, test_pred)\n",
    "\n",
    "plt.figure(figsize = (8, 5))\n",
    "\n",
    "sns.heatmap(cm, annot = True,  fmt = '.0f')\n",
    "\n",
    "plt.ylabel('Actual')\n",
    "\n",
    "plt.xlabel('Predicted')\n",
    "\n",
    "plt.show()"
   ]
  },
  {
   "cell_type": "markdown",
   "metadata": {
    "id": "DjErl4GA2u9s"
   },
   "source": [
    "**Final Observations:**\n",
    "- Overall, the recall values are very high. This indicates that the model is good at recognizing all the digits in the images. \n",
    "- The model is giving about 89% accuracy on the test data which is comparable to the accuracy of the validation data (88.5%). This implies that the model is giving a generalized performance.\n",
    "- The model is not good at recognizing the digit \"3\", since it can only identify 87% of it (i.e., recall = 0.87).\n",
    "- The highest percision is for the digit \"7\"."
   ]
  },
  {
   "cell_type": "code",
   "execution_count": 27,
   "metadata": {
    "id": "EKHTojYDe4Pq"
   },
   "outputs": [],
   "source": []
  }
 ],
 "metadata": {
  "accelerator": "GPU",
  "colab": {
   "collapsed_sections": [],
   "name": "KojenWang_CNN_SVHN.ipynb",
   "provenance": []
  },
  "kernelspec": {
   "display_name": "Python 3 (ipykernel)",
   "language": "python",
   "name": "python3"
  },
  "language_info": {
   "codemirror_mode": {
    "name": "ipython",
    "version": 3
   },
   "file_extension": ".py",
   "mimetype": "text/x-python",
   "name": "python",
   "nbconvert_exporter": "python",
   "pygments_lexer": "ipython3",
   "version": "3.9.7"
  }
 },
 "nbformat": 4,
 "nbformat_minor": 1
}
